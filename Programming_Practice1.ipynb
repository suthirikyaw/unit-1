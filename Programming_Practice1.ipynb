{
  "nbformat": 4,
  "nbformat_minor": 0,
  "metadata": {
    "colab": {
      "name": "Programming Practice1.ipynb",
      "provenance": [],
      "authorship_tag": "ABX9TyMK2R8WYOpd/5b/+aPRsT0j",
      "include_colab_link": true
    },
    "kernelspec": {
      "name": "python3",
      "display_name": "Python 3"
    },
    "language_info": {
      "name": "python"
    }
  },
  "cells": [
    {
      "cell_type": "markdown",
      "metadata": {
        "id": "view-in-github",
        "colab_type": "text"
      },
      "source": [
        "<a href=\"https://colab.research.google.com/github/suthirikyaw/unit-1/blob/main/Programming_Practice1.ipynb\" target=\"_parent\"><img src=\"https://colab.research.google.com/assets/colab-badge.svg\" alt=\"Open In Colab\"/></a>"
      ]
    },
    {
      "cell_type": "markdown",
      "metadata": {
        "id": "X_eHvRccQT55"
      },
      "source": [
        "# Programming Practice#1\n",
        "① Write a program that calculates the addition of all integer numbers from 0 to 2021."
      ]
    },
    {
      "cell_type": "code",
      "metadata": {
        "colab": {
          "base_uri": "https://localhost:8080/"
        },
        "id": "WV1SaGHIHA_g",
        "outputId": "2d35e537-e9e9-4b3d-be29-b7408b87f3a2"
      },
      "source": [
        "n = int(input(\"Please enter an integer larger then zero: \"))\n",
        "total = (n*(n+1)/2)\n",
        "\n",
        "print(\"The total is \", total)\n"
      ],
      "execution_count": null,
      "outputs": [
        {
          "output_type": "stream",
          "text": [
            "Please enter an integer larger then zero: 8\n",
            "The total is  36.0\n"
          ],
          "name": "stdout"
        }
      ]
    },
    {
      "cell_type": "markdown",
      "metadata": {
        "id": "8lUxaZh3Q_pM"
      },
      "source": [
        "② Write a program that calculates the value of y when the user enters a integer x\n",
        "\n",
        " y = 2*(x+3) - 3 \n"
      ]
    },
    {
      "cell_type": "code",
      "metadata": {
        "colab": {
          "base_uri": "https://localhost:8080/"
        },
        "id": "iRd23kTJJ6Qi",
        "outputId": "46ac78d8-a1a4-4618-f3dc-5fe8b33540d1"
      },
      "source": [
        "x = int(input(\"Please enter an integer greater than zero: \"))\n",
        "\n",
        "y = (2*(x+3)-3)\n",
        "\n",
        "print(\"The solution to the equation 2(x+3)-3 is : \",y)"
      ],
      "execution_count": null,
      "outputs": [
        {
          "output_type": "stream",
          "text": [
            "Please enter an integer greater than zero: 1\n",
            "The solution to the equation 2(x+3)-3 is :  5\n"
          ],
          "name": "stdout"
        }
      ]
    },
    {
      "cell_type": "markdown",
      "metadata": {
        "id": "nha7bwFtRGph"
      },
      "source": [
        "③ Write a program that asks the user for his name and grade and outputs the user’s email address at UWC Isak"
      ]
    },
    {
      "cell_type": "code",
      "metadata": {
        "colab": {
          "base_uri": "https://localhost:8080/"
        },
        "id": "8FfiEkh0LhAU",
        "outputId": "b93bd127-26a0-4108-bc56-e074ce028e40"
      },
      "source": [
        "firstname = input(\"Please enter your first name: \")\n",
        "lastname = input(\"Please enter your last name (if you can): \")\n",
        "grade = int(input(\"Please enter your grade [10, 11, 12] : \"))\n",
        "year = (2034 - grade)\n",
        "print(f\"Your email address is {year}.{firstname}.{lastname}@uwcisak.jp\")\n"
      ],
      "execution_count": null,
      "outputs": [
        {
          "output_type": "stream",
          "text": [
            "Please enter your first name: Su\n",
            "Please enter your last name (if you can): Kyaw\n",
            "Please enter your grade [10, 11, 12] : 11\n",
            "Your email address is 2023.Su.Kyaw@uwcisak.jp\n"
          ],
          "name": "stdout"
        }
      ]
    },
    {
      "cell_type": "markdown",
      "metadata": {
        "id": "H4DxAdrZRVHr"
      },
      "source": [
        "④ Write a program that converts a temperature from Fahrenheit to Celsius. "
      ]
    },
    {
      "cell_type": "code",
      "metadata": {
        "id": "IY6owZFARWcy",
        "colab": {
          "base_uri": "https://localhost:8080/"
        },
        "outputId": "04174fd0-3729-4e5f-ba81-be4bb8fe2b3d"
      },
      "source": [
        "f = int(input(\"Please enter the temperature in Fahrenheit: \"))\n",
        "c = (f-30)/2\n",
        "print(f\"The temperature in Celsius is: {c}\")"
      ],
      "execution_count": 4,
      "outputs": [
        {
          "output_type": "stream",
          "text": [
            "Please enter the temperature in Fahrenheit: 45\n",
            "The temperature in Celsius is: 7.5\n"
          ],
          "name": "stdout"
        }
      ]
    },
    {
      "cell_type": "markdown",
      "metadata": {
        "id": "59Nrrr_J3_5G"
      },
      "source": [
        "⑤ Write a program to convert from miles to kilometers。"
      ]
    },
    {
      "cell_type": "code",
      "metadata": {
        "colab": {
          "base_uri": "https://localhost:8080/"
        },
        "id": "rn9Ij3554C6R",
        "outputId": "3f2806fd-9758-4680-966a-d15d2a63859f"
      },
      "source": [
        "miles = int(input(\"Please enter the distance in miles: \"))\n",
        "km = miles*1.60934\n",
        "print(f\"The distance in kilometers is: {km}\")"
      ],
      "execution_count": 5,
      "outputs": [
        {
          "output_type": "stream",
          "text": [
            "Please enter the distance in miles: 100\n",
            "The distance in kilometers is: 160.934\n"
          ],
          "name": "stdout"
        }
      ]
    },
    {
      "cell_type": "markdown",
      "metadata": {
        "id": "ff3MBcAy4dTY"
      },
      "source": [
        "⑥ Write a program that solves the Quadratic Equation for valid inputs a, b, c。"
      ]
    },
    {
      "cell_type": "code",
      "metadata": {
        "colab": {
          "base_uri": "https://localhost:8080/"
        },
        "id": "66qNvJMZ4fvK",
        "outputId": "a54814e8-39ef-467e-9128-cee8094c9058"
      },
      "source": [
        "a = int(input(\"Please enter a value for a: \"))\n",
        "b = int(input(\"Please enter a value for b: \"))\n",
        "c = int(input(\"Please enter a value for c: \"))\n",
        "x = int(input(\"Please enter a value for x: \"))\n",
        "answer = (((a*x)^2)+(b*x)+c)\n",
        "print(f\"The answer for {a}({x})^2+{b}({x})+{c} = {answer}\")"
      ],
      "execution_count": 9,
      "outputs": [
        {
          "output_type": "stream",
          "text": [
            "Please enter a value for a: 3\n",
            "Please enter a value for b: 2\n",
            "Please enter a value for c: 1\n",
            "Please enter a value for x: 2\n",
            "The answer for 3(2)^2+ 2(2) + 1 = 9\n"
          ],
          "name": "stdout"
        }
      ]
    },
    {
      "cell_type": "markdown",
      "metadata": {
        "id": "UN35nUaN9Wh4"
      },
      "source": [
        "⑦ Write a program to reverse a number entered by the user。"
      ]
    },
    {
      "cell_type": "code",
      "metadata": {
        "colab": {
          "base_uri": "https://localhost:8080/"
        },
        "id": "AH3haxbM9XH9",
        "outputId": "57d074b3-7e76-4c6e-9999-c8b488e8a998"
      },
      "source": [
        "number = int(input(\"Please enter a two digit number: \"))\n",
        "tens = int(number/10)\n",
        "ones = number - (tens*10)\n",
        "print(f\"Your number in reverse is: {ones}{tens}\")"
      ],
      "execution_count": 17,
      "outputs": [
        {
          "output_type": "stream",
          "text": [
            "Please enter a two digit number: 34\n",
            "Your number in reverse is: 43\n"
          ],
          "name": "stdout"
        }
      ]
    },
    {
      "cell_type": "markdown",
      "metadata": {
        "id": "XqR-o_uO_eel"
      },
      "source": [
        "⑧ Write a program that asks the user for their name, age, nationality and produces a greeting message such as “Welcome John Doe you are 30 years old and a national of Colombia”"
      ]
    },
    {
      "cell_type": "code",
      "metadata": {
        "colab": {
          "base_uri": "https://localhost:8080/"
        },
        "id": "9h9TkRVk_fJ5",
        "outputId": "285ac7c6-2f88-4c15-88a0-f2c1bcad5764"
      },
      "source": [
        "firstname = input(\"Please enter your first name: \")\n",
        "lastname = input(\"Please enter your last name: \")\n",
        "age = input(\"Please enter your age: \")\n",
        "nationality = input(\"Please enter your nationality: \")\n",
        "print(f\"Welcome, {firstname} {lastname}! You are {age} years old and a national of {nationality}.\")"
      ],
      "execution_count": 18,
      "outputs": [
        {
          "output_type": "stream",
          "text": [
            "Please enter your first name: Su\n",
            "Please enter your last name: Kyaw\n",
            "Please enter your age: 17\n",
            "Please enter your nationality: Myanmar\n",
            "Welcome, SuKyaw! You are 17 years old and a national of Myanmar\n"
          ],
          "name": "stdout"
        }
      ]
    },
    {
      "cell_type": "markdown",
      "metadata": {
        "id": "78VOwU-1AGrA"
      },
      "source": [
        "\n",
        "⑨ Create one more program that converts between different units.\n"
      ]
    },
    {
      "cell_type": "code",
      "metadata": {
        "colab": {
          "base_uri": "https://localhost:8080/"
        },
        "id": "4t0Zb9fWAHvA",
        "outputId": "37b98de8-ff27-4600-9d23-9e1b307d711b"
      },
      "source": [
        "yen = int(input(\"Please enter your money in Yen: \"))\n",
        "kyat = (yen*14.93)\n",
        "print(f\"{yen} in Burmese Kyat is {kyat}\")"
      ],
      "execution_count": 21,
      "outputs": [
        {
          "output_type": "stream",
          "text": [
            "Please enter your money in Yen: 10\n",
            "10 in Burmese Kyat is 149.3\n"
          ],
          "name": "stdout"
        }
      ]
    }
  ]
}