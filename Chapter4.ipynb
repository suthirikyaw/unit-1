{
  "nbformat": 4,
  "nbformat_minor": 0,
  "metadata": {
    "colab": {
      "name": "Chapter4.ipynb",
      "provenance": [],
      "collapsed_sections": [],
      "authorship_tag": "ABX9TyP5F7PSucL1X/4m3IutYDOF",
      "include_colab_link": true
    },
    "kernelspec": {
      "name": "python3",
      "display_name": "Python 3"
    },
    "language_info": {
      "name": "python"
    }
  },
  "cells": [
    {
      "cell_type": "markdown",
      "metadata": {
        "id": "view-in-github",
        "colab_type": "text"
      },
      "source": [
        "<a href=\"https://colab.research.google.com/github/suthirikyaw/unit-1/blob/main/Chapter4.ipynb\" target=\"_parent\"><img src=\"https://colab.research.google.com/assets/colab-badge.svg\" alt=\"Open In Colab\"/></a>"
      ]
    },
    {
      "cell_type": "markdown",
      "metadata": {
        "id": "zWTafNfkCdRk"
      },
      "source": [
        "Scores = [2, 3, 1, 0, 5, 3, 4, 2]\n",
        "1. Print how many students passed \n",
        "2. Print the average score"
      ]
    },
    {
      "cell_type": "code",
      "metadata": {
        "id": "EryWXPZNCoIq",
        "colab": {
          "base_uri": "https://localhost:8080/"
        },
        "outputId": "9c341b29-c536-46ee-fcd1-24ad961e700f"
      },
      "source": [
        "studentPassed = 0\n",
        "sum = 0\n",
        "for i in (2, 3, 1, 0, 5, 3, 4, 2):\n",
        "    sum += i\n",
        "    if i >= 4:\n",
        "        studentPassed += 1\n",
        "\n",
        "print(\"The number of students passed is: \", studentPassed)\n",
        "print(\"The average score is: \", sum/8)"
      ],
      "execution_count": null,
      "outputs": [
        {
          "output_type": "stream",
          "name": "stdout",
          "text": [
            "The number of students passed is:  2\n",
            "The average score is:  2.5\n"
          ]
        }
      ]
    },
    {
      "cell_type": "markdown",
      "metadata": {
        "id": "JyHB8G5xC_z0"
      },
      "source": [
        "Print out the odd numbers in a limit given by the user. "
      ]
    },
    {
      "cell_type": "code",
      "metadata": {
        "id": "fj2dZLQTDAIH"
      },
      "source": [
        "n = int(input(\"Enter the limit: \"))\n",
        "for i in range(n+1):\n",
        "  if i%2!=0:\n",
        "    print(i)"
      ],
      "execution_count": null,
      "outputs": []
    },
    {
      "cell_type": "markdown",
      "metadata": {
        "id": "s8l_EY2rK2uk"
      },
      "source": [
        "Multiplication Table "
      ]
    },
    {
      "cell_type": "code",
      "metadata": {
        "colab": {
          "base_uri": "https://localhost:8080/"
        },
        "id": "0IxDOsJzK54v",
        "outputId": "10d068d3-261c-48e0-d8d1-f754b1d4e2c5"
      },
      "source": [
        "num = int(input(\"Enter a number: \"))\n",
        "print(\"\\n\")\n",
        "msg = (f\"Multiplication table for {num}\")\n",
        "print(msg)\n",
        "\n",
        "len_msg = len(msg)\n",
        "print(\"-\"*len_msg)\n",
        "\n",
        "for i in range(num+1):\n",
        "  print(f\"{num} x {i} = {num*i}\")"
      ],
      "execution_count": null,
      "outputs": [
        {
          "output_type": "stream",
          "name": "stdout",
          "text": [
            "Enter a number: 12\n",
            "\n",
            "\n",
            "Multiplication table for 12\n",
            "---------------------------\n",
            "12 x 0 = 0\n",
            "12 x 1 = 12\n",
            "12 x 2 = 24\n",
            "12 x 3 = 36\n",
            "12 x 4 = 48\n",
            "12 x 5 = 60\n",
            "12 x 6 = 72\n",
            "12 x 7 = 84\n",
            "12 x 8 = 96\n",
            "12 x 9 = 108\n",
            "12 x 10 = 120\n",
            "12 x 11 = 132\n",
            "12 x 12 = 144\n"
          ]
        }
      ]
    },
    {
      "cell_type": "markdown",
      "metadata": {
        "id": "psjUJYYKN-5w"
      },
      "source": [
        "Display a name in a banner of stars"
      ]
    },
    {
      "cell_type": "code",
      "metadata": {
        "id": "uCEyo7xOODAV"
      },
      "source": [
        "name = int(input(\"Enter your name: \"))\n",
        "\n",
        "top_bottom_line = (\"*\"*50)\n"
      ],
      "execution_count": null,
      "outputs": []
    },
    {
      "cell_type": "code",
      "metadata": {
        "id": "SPjDAxjHWLJy"
      },
      "source": [
        "P = int(input(\"Enter initial amount: \"))\n",
        "r = float(input(\"Enter the interest rate (ex. 2%: \"))\n",
        "n = int(input(\"Enter the number of periods in a year (Ex. monthly = 12): \"))\n",
        "t = int(input(\"Enter period in years: \"))\n",
        "\n",
        "for year in range(t):\n",
        "  A = P(1+(r/100)/n)**(n*year)\n",
        "  print(f\"year {year} amount {A} US\")\n",
        "  \n"
      ],
      "execution_count": null,
      "outputs": []
    }
  ]
}