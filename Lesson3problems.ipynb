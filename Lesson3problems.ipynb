{
  "nbformat": 4,
  "nbformat_minor": 0,
  "metadata": {
    "colab": {
      "name": "Lesson3problems.ipynb",
      "provenance": [],
      "authorship_tag": "ABX9TyMe01NwJW/xv7NODUu4HFIw",
      "include_colab_link": true
    },
    "kernelspec": {
      "name": "python3",
      "display_name": "Python 3"
    },
    "language_info": {
      "name": "python"
    }
  },
  "cells": [
    {
      "cell_type": "markdown",
      "metadata": {
        "id": "view-in-github",
        "colab_type": "text"
      },
      "source": [
        "<a href=\"https://colab.research.google.com/github/suthirikyaw/unit-1/blob/main/Lesson3problems.ipynb\" target=\"_parent\"><img src=\"https://colab.research.google.com/assets/colab-badge.svg\" alt=\"Open In Colab\"/></a>"
      ]
    },
    {
      "cell_type": "markdown",
      "metadata": {
        "id": "dMa5F1NgoXkI"
      },
      "source": [
        "Given two integers, print the smaller value."
      ]
    },
    {
      "cell_type": "code",
      "metadata": {
        "id": "Fxk0c_GvpxBl",
        "colab": {
          "base_uri": "https://localhost:8080/"
        },
        "outputId": "72269955-c95e-4396-d641-ade1c1541518"
      },
      "source": [
        "num1 = int(input(\"Please enter a number: \"))\n",
        "num2 = int(input(\"Please enter a number: \"))\n",
        "if num1 < num2:\n",
        "  print(f\"The smaller number is {num1}\")\n",
        "else:\n",
        "  print(f\"The smaller number is {num2}\")"
      ],
      "execution_count": null,
      "outputs": [
        {
          "output_type": "stream",
          "name": "stdout",
          "text": [
            "Please enter a number: 2\n",
            "Please enter a number: 3\n",
            "The smaller number is 2\n"
          ]
        }
      ]
    },
    {
      "cell_type": "markdown",
      "metadata": {
        "id": "1gKWPpuj707b"
      },
      "source": [
        "For the given integer X print 1 if it's positive, -1 if it's negative, or 0 if it's equal to zero.\n",
        "Try to use the cascade if-elif-else for it."
      ]
    },
    {
      "cell_type": "code",
      "metadata": {
        "colab": {
          "base_uri": "https://localhost:8080/"
        },
        "id": "vOAl80IAAInB",
        "outputId": "0e72e5fa-bc8b-4608-e412-f195cd15967a"
      },
      "source": [
        "x = int(input(\"Please enter a number: \"))\n",
        "if x < 0 :\n",
        "  print(\"-1\")\n",
        "elif x > 0 :\n",
        "  print(\"1\")\n",
        "else:\n",
        "  print(\"0\")"
      ],
      "execution_count": null,
      "outputs": [
        {
          "output_type": "stream",
          "name": "stdout",
          "text": [
            "Please enter a number: -5\n",
            "-1\n"
          ]
        }
      ]
    },
    {
      "cell_type": "markdown",
      "metadata": {
        "id": "CopVb507BhSg"
      },
      "source": [
        "Given three integers, print the smallest value."
      ]
    },
    {
      "cell_type": "code",
      "metadata": {
        "colab": {
          "base_uri": "https://localhost:8080/"
        },
        "id": "cFim1qpgBhxn",
        "outputId": "a3809762-6920-4ebc-cb48-588298ee263b"
      },
      "source": [
        "num1 = int(input(\"Please enter a number: \"))\n",
        "num2 = int(input(\"Please enter a number: \"))\n",
        "num3 = int(input(\"Please enter a number: \"))\n",
        "if num1<num2 and num1<num3:\n",
        "  print(f\"The smallest number is {num1}\")\n",
        "elif num2<num1 and num2<num3:\n",
        "  print(f\"The smallest number is {num2}\")\n",
        "else:\n",
        "  print(f\"The smallest number is {num3}\")\n",
        "    "
      ],
      "execution_count": null,
      "outputs": [
        {
          "output_type": "stream",
          "name": "stdout",
          "text": [
            "Please enter a number: 4\n",
            "Please enter a number: 6\n",
            "Please enter a number: 1\n",
            "The smallest number is 1\n"
          ]
        }
      ]
    },
    {
      "cell_type": "markdown",
      "metadata": {
        "id": "QCbmlDxrbWp5"
      },
      "source": [
        "Given three integers, determine how many of them are equal to each other. The program must print one of these numbers: 3 (if all are the same), 2 (if two of them are equal to each other and the third is different) or 0 (if all numbers are different).\n"
      ]
    },
    {
      "cell_type": "code",
      "metadata": {
        "colab": {
          "base_uri": "https://localhost:8080/"
        },
        "id": "i3q3ESjhbaaa",
        "outputId": "6546fad4-131b-4a1b-9ecf-eaebc60ffbb3"
      },
      "source": [
        "num1 = int(input(\"Please enter a number: \"))\n",
        "num2 = int(input(\"Please enter a number: \"))\n",
        "num3 = int(input(\"Please enter a number: \"))\n",
        "if num1==num2==num3:\n",
        "  print(\"3\")\n",
        "elif num1==num2 or num1==num3 or num3==num2:\n",
        "  print(\"2\")\n",
        "else: \n",
        "  print(\"0\")\n"
      ],
      "execution_count": null,
      "outputs": [
        {
          "output_type": "stream",
          "name": "stdout",
          "text": [
            "Please enter a number: 1\n",
            "Please enter a number: 5\n",
            "Please enter a number: 3\n",
            "0\n"
          ]
        }
      ]
    },
    {
      "cell_type": "markdown",
      "metadata": {
        "id": "85sEvqVD-8fD"
      },
      "source": [
        "Chess rook moves horizontally or vertically. Given two different cells of the chessboard, determine whether a rook can go from the first cell to the second in one move.\n",
        "The program receives the input of four numbers from 1 to 8, each specifying the column and row number, first two - for the first cell, and then the last two - for the second cell. The program should output YES if a rook can go from the first cell to the second in one move, or NO otherwise."
      ]
    },
    {
      "cell_type": "code",
      "metadata": {
        "colab": {
          "base_uri": "https://localhost:8080/"
        },
        "id": "zSnVWaAd_Du0",
        "outputId": "6833b3d7-56bf-4421-8b71-031c2713d46c"
      },
      "source": [
        "column1 = int(input(\"Please enter column of current cell: \"))\n",
        "row1 = int(input(\"Please enter row of current cell: \"))\n",
        "column2 = int(input(\"Please enter column of second cell: \"))\n",
        "row2 = int(input(\"Please enter row of second cell: \"))\n",
        "if column1 == column2:\n",
        "  print(\"YES\")\n",
        "elif row1 == row2:\n",
        "  print(\"YES\")\n",
        "else:\n",
        "  print(\"NO\")"
      ],
      "execution_count": null,
      "outputs": [
        {
          "output_type": "stream",
          "name": "stdout",
          "text": [
            "Please enter column of current cell: 4\n",
            "Please enter row of current cell: 4\n",
            "Please enter column of second cell: 5\n",
            "Please enter row of second cell: 5\n",
            "NO\n"
          ]
        }
      ]
    },
    {
      "cell_type": "markdown",
      "metadata": {
        "id": "6gNJnFtxApQI"
      },
      "source": [
        "Given two cells of a chessboard. If they are painted in one color, print the word YES, and if in a different color - NO.\n",
        "The program receives the input of four numbers from 1 to 8, each specifying the column and row number, first two - for the first cell, and then the last two - for the second cell.\n",
        "\n"
      ]
    },
    {
      "cell_type": "code",
      "metadata": {
        "colab": {
          "base_uri": "https://localhost:8080/"
        },
        "id": "RKfJte-bAp5x",
        "outputId": "356ff5c9-ea47-4e1b-9e5b-053ab0951a29"
      },
      "source": [
        "column1 = int(input(\"Please enter column of first cell: \"))\n",
        "row1 = int(input(\"Please enter row of first cell: \"))\n",
        "column2 = int(input(\"Please enter column of second cell: \"))\n",
        "row2 = int(input(\"Please enter row of second cell: \"))\n",
        "sum = int((column1+column2+row1+row2))\n",
        "if sum%2==0:\n",
        "  print(\"YES\")\n",
        "else:\n",
        "  print(\"NO\")\n"
      ],
      "execution_count": null,
      "outputs": [
        {
          "output_type": "stream",
          "name": "stdout",
          "text": [
            "Please enter column of first cell: 3\n",
            "Please enter row of first cell: 4\n",
            "Please enter column of second cell: 6\n",
            "Please enter row of second cell: 7\n",
            "YES\n"
          ]
        }
      ]
    },
    {
      "cell_type": "markdown",
      "metadata": {
        "id": "g55qpavdInpo"
      },
      "source": [
        "Chess king moves horizontally, vertically or diagonally to any adjacent cell. Given two different cells of the chessboard, determine whether a king can go from the first cell to the second in one move.\n",
        "The program receives the input of four numbers from 1 to 8, each specifying the column and row number, first two - for the first cell, and then the last two - for the second cell. The program should output YES if a king can go from the first cell to the second in one move, or NO otherwise."
      ]
    },
    {
      "cell_type": "code",
      "metadata": {
        "id": "BiBi2Jm4IqRG",
        "colab": {
          "base_uri": "https://localhost:8080/"
        },
        "outputId": "4b967b0c-4dad-497b-daa1-fb3c827aec8e"
      },
      "source": [
        "column1 = int(input(\"Please enter column of current cell: \"))\n",
        "row1 = int(input(\"Please enter row of current cell: \"))\n",
        "column2 = int(input(\"Please enter column of second cell: \"))\n",
        "row2 = int(input(\"Please enter row of second cell: \"))\n",
        "sum1 = column1+row1\n",
        "sum2 = column2+row2\n",
        "if sum1+1==sum2 or sum1+2==sum2 or sum1-1==sum2 or sum1-2==sum2:\n",
        "  print(\"YES\")\n",
        "else:\n",
        "  print(\"NO\")\n"
      ],
      "execution_count": null,
      "outputs": [
        {
          "output_type": "stream",
          "name": "stdout",
          "text": [
            "Please enter column of current cell: 6\n",
            "Please enter row of current cell: 5\n",
            "Please enter column of second cell: 1\n",
            "Please enter row of second cell: 8\n",
            "NO\n"
          ]
        }
      ]
    },
    {
      "cell_type": "markdown",
      "metadata": {
        "id": "14IhTATtS7xR"
      },
      "source": [
        "In chess, the bishop moves diagonally, any number of squares. Given two different squares of the chessboard, determine whether a bishop can go from the first to the second in one move.\n",
        "The program receives as input four numbers from 1 to 8, specifying the column and row numbers of the starting square and the column and row numbers of the ending square. The program should output YES if a Bishop can go from the first square to the second in one move, or NO otherwise."
      ]
    },
    {
      "cell_type": "code",
      "metadata": {
        "colab": {
          "base_uri": "https://localhost:8080/"
        },
        "id": "QVnEsYsdj64S",
        "outputId": "436cdfd2-9a24-4817-a444-30ede173a7eb"
      },
      "source": [
        "column1 = int(input(\"Please enter column of current cell: \"))\n",
        "row1 = int(input(\"Please enter row of current cell: \"))\n",
        "column2 = int(input(\"Please enter column of second cell: \"))\n",
        "row2 = int(input(\"Please enter row of second cell: \"))\n",
        "if column1==column2 or row1==row2:    \n",
        "  print(\"NO\")\n",
        "elif abs(column1-column2)==abs(row1-row2):\n",
        "  print(\"YES\")\n",
        "else:\n",
        "  print(\"NO\")"
      ],
      "execution_count": 11,
      "outputs": [
        {
          "output_type": "stream",
          "name": "stdout",
          "text": [
            "Please enter column of current cell: 5\n",
            "Please enter row of current cell: 3\n",
            "Please enter column of second cell: 1\n",
            "Please enter row of second cell: 3\n",
            "NO\n"
          ]
        }
      ]
    },
    {
      "cell_type": "markdown",
      "metadata": {
        "id": "NfOtsLm_5roK"
      },
      "source": [
        "Chess queen moves horizontally, vertically or diagonally to any number of cells. Given two different cells of the chessboard, determine whether a queen can go from the first cell to the second in one move.\n",
        "The program receives the input of four numbers from 1 to 8, each specifying the column and row number, first two - for the first cell, and then the last two - for the second cell. The program should output YES if a queen can go from the first cell to the second in one move, or NO otherwise."
      ]
    },
    {
      "cell_type": "code",
      "metadata": {
        "colab": {
          "base_uri": "https://localhost:8080/"
        },
        "id": "3CKDD9OT5tam",
        "outputId": "2d455f65-317a-4493-cfc8-e6d79c2929be"
      },
      "source": [
        "column1 = int(input(\"Please enter column of current cell: \"))\n",
        "row1 = int(input(\"Please enter row of current cell: \"))\n",
        "column2 = int(input(\"Please enter column of second cell: \"))\n",
        "row2 = int(input(\"Please enter row of second cell: \"))\n",
        "if column1==column2 or row1==row2:    \n",
        "  print(\"YES\")\n",
        "elif abs(column1-column2)==abs(row1-row2):\n",
        "  print(\"YES\")\n",
        "else:\n",
        "  print(\"NO\")"
      ],
      "execution_count": 14,
      "outputs": [
        {
          "output_type": "stream",
          "name": "stdout",
          "text": [
            "Please enter column of current cell: 5\n",
            "Please enter row of current cell: 3\n",
            "Please enter column of second cell: 3\n",
            "Please enter row of second cell: 7\n",
            "NO\n"
          ]
        }
      ]
    },
    {
      "cell_type": "markdown",
      "metadata": {
        "id": "KZQXazus8134"
      },
      "source": [
        "Chess knight moves like the letter L. It can move two cells horizontally and one cell vertically, or two cells vertically and one cells horizontally. Given two different cells of the chessboard, determine whether a knight can go from the first cell to the second in one move.\n",
        "The program receives the input of four numbers from 1 to 8, each specifying the column and row number, first two - for the first cell, and then the last two - for the second cell. The program should output YES if a knight can go from the first cell to the second in one move, or NO otherwise."
      ]
    },
    {
      "cell_type": "markdown",
      "metadata": {
        "id": "SfbP7kdu9vb3"
      },
      "source": [
        "Chocolate bar has the form of a rectangle divided into n×m portions. Chocolate bar can be split into two rectangular parts by breaking it along a selected straight line on its pattern. Determine whether it is possible to split it so that one of the parts will have exactly k squares.\n",
        "The program reads three integers: n, m, and k. It should print YES or NO."
      ]
    },
    {
      "cell_type": "code",
      "metadata": {
        "colab": {
          "base_uri": "https://localhost:8080/"
        },
        "id": "hjmobg-f9xMS",
        "outputId": "17cbcf7c-d008-4c6a-95bc-06c1c6aa5816"
      },
      "source": [
        "n = int(input(\"Please enter the length (in squares) of the chocolate: \"))\n",
        "m = int(input(\"Please enter the width (in squares) of the chocolate : \"))\n",
        "k = int(input(\"Please enter how many squares much be in one part: \"))\n",
        "if k<(n*m):\n",
        "  if (k%n==0) or (k%m==0):\n",
        "    print(\"YES\")\n",
        "  else:\n",
        "    print(\"NO\")\n",
        "else:\n",
        "  print(\"NO\")\n",
        "  "
      ],
      "execution_count": 21,
      "outputs": [
        {
          "output_type": "stream",
          "name": "stdout",
          "text": [
            "Please enter the length (in squares) of the chocolate: 4\n",
            "Please enter the width (in squares) of the chocolate : 3\n",
            "Please enter how many squares much be in one part: 6\n",
            "YES\n"
          ]
        }
      ]
    },
    {
      "cell_type": "markdown",
      "metadata": {
        "id": "pHTLUndjAy7O"
      },
      "source": [
        "Given the year number. You need to check if this year is a leap year. If it is, print LEAP, otherwise print COMMON.\n",
        "The rules in Gregorian calendar are as follows:\n",
        "\n",
        "a year is a leap year if its number is exactly divisible by 4 and is not exactly divisible by 100\n",
        "a year is always a leap year if its number is exactly divisible by 400\n",
        "Warning. The words LEAP and COMMON should be printed all caps."
      ]
    },
    {
      "cell_type": "code",
      "metadata": {
        "colab": {
          "base_uri": "https://localhost:8080/"
        },
        "id": "0memX9C9Azkk",
        "outputId": "44f6f393-8136-4421-c45f-8e7ff5fe53f4"
      },
      "source": [
        "year = int(input(\"Please enter the year: \"))\n",
        "if year%4==0 and year%100!=0:\n",
        "  print(\"LEAP\")\n",
        "elif year%400==0:\n",
        "  print(\"LEAP\")\n",
        "else:\n",
        "  print(\"COMMON\")"
      ],
      "execution_count": 22,
      "outputs": [
        {
          "output_type": "stream",
          "name": "stdout",
          "text": [
            "Please enter the year: 2012\n",
            "LEAP\n"
          ]
        }
      ]
    },
    {
      "cell_type": "code",
      "metadata": {
        "id": "7CGPtoD7_wfy"
      },
      "source": [
        ""
      ],
      "execution_count": null,
      "outputs": []
    }
  ]
}